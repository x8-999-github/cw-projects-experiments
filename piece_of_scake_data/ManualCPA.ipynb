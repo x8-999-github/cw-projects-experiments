{
 "metadata": {
  "name": "",
  "signature": "sha256:01afd5968408d5185ed5a42b7fbc3a1cce4cebb174715dc0a5d7c8bd5c0a5ead"
 },
 "nbformat": 3,
 "nbformat_minor": 0,
 "worksheets": [
  {
   "cells": [
    {
     "cell_type": "markdown",
     "metadata": {},
     "source": [
      "# Manual attack\n",
      "\n",
      "Performing a manual attack as described on the CW wiki https://wiki.newae.com/Tutorial_B6_Breaking_AES_(Manual_CPA_Attack)"
     ]
    },
    {
     "cell_type": "code",
     "collapsed": false,
     "input": [
      "%matplotlib inline\n",
      "import numpy as np\n",
      "import matplotlib.pyplot as plt"
     ],
     "language": "python",
     "metadata": {},
     "outputs": [],
     "prompt_number": 2
    },
    {
     "cell_type": "code",
     "collapsed": false,
     "input": [
      "base=\"2017.09.07-13.51.26\"\n",
      "traces  =  np.load(\"traces/%s_traces.npy\" % base)\n",
      "textin  =  np.load(\"traces/%s_textin.npy\" % base)\n",
      "textout =  np.load(\"traces/%s_textout.npy\" % base)"
     ],
     "language": "python",
     "metadata": {},
     "outputs": [],
     "prompt_number": 7
    },
    {
     "cell_type": "code",
     "collapsed": false,
     "input": [
      "np.shape(traces)"
     ],
     "language": "python",
     "metadata": {},
     "outputs": [
      {
       "metadata": {},
       "output_type": "pyout",
       "prompt_number": 10,
       "text": [
        "(50, 3000)"
       ]
      }
     ],
     "prompt_number": 10
    },
    {
     "cell_type": "code",
     "collapsed": false,
     "input": [
      "plt.plot(traces[0])"
     ],
     "language": "python",
     "metadata": {},
     "outputs": [
      {
       "metadata": {},
       "output_type": "pyout",
       "prompt_number": 11,
       "text": [
        "[<matplotlib.lines.Line2D at 0x7f0dc75e9d90>]"
       ]
      },
      {
       "metadata": {},
       "output_type": "display_data",
       "png": "[encoded data removed]",
       "text": [
        "<matplotlib.figure.Figure at 0x7f0dfdc41bd0>"
       ]
      }
     ],
     "prompt_number": 11
    },
    {
     "cell_type": "code",
     "collapsed": false,
     "input": [
      "sbox=(\n",
      "    0x63,0x7c,0x77,0x7b,0xf2,0x6b,0x6f,0xc5,0x30,0x01,0x67,0x2b,0xfe,0xd7,0xab,0x76,\n",
      "    0xca,0x82,0xc9,0x7d,0xfa,0x59,0x47,0xf0,0xad,0xd4,0xa2,0xaf,0x9c,0xa4,0x72,0xc0,\n",
      "    0xb7,0xfd,0x93,0x26,0x36,0x3f,0xf7,0xcc,0x34,0xa5,0xe5,0xf1,0x71,0xd8,0x31,0x15,\n",
      "    0x04,0xc7,0x23,0xc3,0x18,0x96,0x05,0x9a,0x07,0x12,0x80,0xe2,0xeb,0x27,0xb2,0x75,\n",
      "    0x09,0x83,0x2c,0x1a,0x1b,0x6e,0x5a,0xa0,0x52,0x3b,0xd6,0xb3,0x29,0xe3,0x2f,0x84,\n",
      "    0x53,0xd1,0x00,0xed,0x20,0xfc,0xb1,0x5b,0x6a,0xcb,0xbe,0x39,0x4a,0x4c,0x58,0xcf,\n",
      "    0xd0,0xef,0xaa,0xfb,0x43,0x4d,0x33,0x85,0x45,0xf9,0x02,0x7f,0x50,0x3c,0x9f,0xa8,\n",
      "    0x51,0xa3,0x40,0x8f,0x92,0x9d,0x38,0xf5,0xbc,0xb6,0xda,0x21,0x10,0xff,0xf3,0xd2,\n",
      "    0xcd,0x0c,0x13,0xec,0x5f,0x97,0x44,0x17,0xc4,0xa7,0x7e,0x3d,0x64,0x5d,0x19,0x73,\n",
      "    0x60,0x81,0x4f,0xdc,0x22,0x2a,0x90,0x88,0x46,0xee,0xb8,0x14,0xde,0x5e,0x0b,0xdb,\n",
      "    0xe0,0x32,0x3a,0x0a,0x49,0x06,0x24,0x5c,0xc2,0xd3,0xac,0x62,0x91,0x95,0xe4,0x79,\n",
      "    0xe7,0xc8,0x37,0x6d,0x8d,0xd5,0x4e,0xa9,0x6c,0x56,0xf4,0xea,0x65,0x7a,0xae,0x08,\n",
      "    0xba,0x78,0x25,0x2e,0x1c,0xa6,0xb4,0xc6,0xe8,0xdd,0x74,0x1f,0x4b,0xbd,0x8b,0x8a,\n",
      "    0x70,0x3e,0xb5,0x66,0x48,0x03,0xf6,0x0e,0x61,0x35,0x57,0xb9,0x86,0xc1,0x1d,0x9e,\n",
      "    0xe1,0xf8,0x98,0x11,0x69,0xd9,0x8e,0x94,0x9b,0x1e,0x87,0xe9,0xce,0x55,0x28,0xdf,\n",
      "    0x8c,0xa1,0x89,0x0d,0xbf,0xe6,0x42,0x68,0x41,0x99,0x2d,0x0f,0xb0,0x54,0xbb,0x16)\n",
      "\n",
      "def intermediate(pt,keyguess):\n",
      "        return sbox[pt ^ keyguess]"
     ],
     "language": "python",
     "metadata": {},
     "outputs": [],
     "prompt_number": 13
    },
    {
     "cell_type": "code",
     "collapsed": false,
     "input": [
      "HW = [bin(n).count(\"1\") for n in range(0,256)]"
     ],
     "language": "python",
     "metadata": {},
     "outputs": [],
     "prompt_number": 28
    },
    {
     "cell_type": "code",
     "collapsed": false,
     "input": [
      "numtraces = np.shape(traces)[0]\n",
      "numpoint = np.shape(traces)[1]\n",
      "\n",
      "\n",
      "bestguess = [0]*16\n",
      "\n",
      "for byte_num in range(0, 16):\n",
      "    cpa_out = [0]*256    \n",
      "    cpa_max = [0]*256\n",
      "    for key_hyp in range(0,256):\n",
      "        #print (\"Subkey %d, hyp = %02x\" %(byte_num,key_hyp))\n",
      "        \n",
      "        \n",
      "        #Initialize arrays & variables to zero\n",
      "        sumsum = np.zeros(numpoint)\n",
      "        sumden1 = np.zeros(numpoint)\n",
      "        sumden2 = np.zeros(numpoint)\n",
      "        \n",
      "        hyp = np.zeros(numtraces)\n",
      "        for trace_num in range(0, numtraces):\n",
      "            hyp[trace_num] = HW[intermediate(textin[trace_num][byte_num],key_hyp)]\n",
      "        \n",
      "        \n",
      "        # Mean of hypothesis\n",
      "        mean_hyp = np.mean(hyp,dtype=np.float64)\n",
      "        \n",
      "        # Mean of traces\n",
      "        mean_of_traces = np.mean(traces,axis=0,dtype=np.float64)\n",
      "        \n",
      "        for trace_num in range(0, numtraces):\n",
      "            hyp_diff = (hyp[trace_num]- mean_hyp)\n",
      "            trace_diff = traces[trace_num,:] - mean_of_traces\n",
      "            \n",
      "            sumsum = sumsum + (hyp_diff*trace_diff)\n",
      "            sumden1 = sumden1 + (hyp_diff * hyp_diff)\n",
      "            sumden2 = sumden2 + (trace_diff * trace_diff)\n",
      "            cpa_out[key_hyp] = sumsum / np.sqrt(sumden1 * sumden2)\n",
      "            \n",
      "            cpa_max[key_hyp] = max(abs(cpa_out[key_hyp]))\n",
      "    #Find maximum value of key\n",
      "    bestguess[byte_num] = np.argmax(cpa_max)\n",
      "    \n",
      "print \"Best Key Guess: \"\n",
      "for b in bestguess: print \"%02x \"%b,\n"
     ],
     "language": "python",
     "metadata": {},
     "outputs": [
      {
       "output_type": "stream",
       "stream": "stdout",
       "text": [
        "Best Key Guess: \n",
        "af  90  d2  7a  7c  52  da  d8  cb  3b  6a  79  74  95  6c  cd \n"
       ]
      }
     ],
     "prompt_number": 54
    },
    {
     "cell_type": "code",
     "collapsed": false,
     "input": [],
     "language": "python",
     "metadata": {},
     "outputs": []
    }
   ],
   "metadata": {}
  }
 ]
}